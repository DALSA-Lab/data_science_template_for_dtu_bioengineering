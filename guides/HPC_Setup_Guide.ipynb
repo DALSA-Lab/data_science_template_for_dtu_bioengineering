{
 "cells": [
  {
   "cell_type": "markdown",
   "metadata": {},
   "source": [
    "# Guide: Copying a Directory to Your Projects Folder on HPC\n",
    "\n",
    "Welcome! This guide will help you copy a directory into your projects folder on the HPC (High-Performance Computing) system. Follow the steps below to set up your environment and transfer your files seamlessly.\n",
    "\n",
    "## Table of Contents\n",
    "1. [Log In to the HPC Server](#1-log-in-to-the-hpc-server)\n",
    "2. [Create Necessary Directories](#2-create-necessary-directories)\n",
    "3. [Install Conda](#3-install-conda)\n",
    "4. [Activate a Conda Environment and Install Packages](#4-activate-a-conda-environment-and-install-packages)\n",
    "5. [Set Up VS Code Remote - SSH Extension](#5-set-up-vs-code-remote---ssh-extension)\n",
    "6. [Copy a Directory to Your Projects Folder](#6-copy-a-directory-to-your-projects-folder)\n",
    "7. [Summary](#7-summary)\n",
    "\n",
    "---\n",
    "\n",
    "## 1. Log In to the HPC Server\n",
    "\n",
    "Start by accessing the HPC server using SSH (Secure Shell). Replace `DTU_NAME` with your actual username.\n",
    "\n",
    "```bash\n",
    "ssh DTU_NAME@login1.hpc.dtu.dk\n",
    "```\n",
    "\n",
    "This command establishes a secure connection to the HPC server.\n"
   ]
  },
  {
   "cell_type": "markdown",
   "metadata": {},
   "source": [
    "## 2. Create Necessary Directories\n",
    "\n",
    "Once logged in, create directories to organize your packages and projects.\n",
    "\n",
    "```bash\n",
    "mkdir -p ~/Packages\n",
    "mkdir -p ~/Projects"
   ]
  },
  {
   "cell_type": "markdown",
   "metadata": {},
   "source": [
    "## 3. Install Conda\n",
    "\n",
    "Conda is a powerful package manager that simplifies environment management and package installation.\n",
    "\n",
    "### a. Download the Miniconda Installer\n",
    "\n",
    "Download the latest Miniconda installer script to your `Packages` folder.\n",
    "\n",
    "```bash\n",
    "wget https://repo.anaconda.com/miniconda/Miniconda3-latest-Linux-x86_64.sh -O ~/Packages/miniconda.sh\n",
    "```\n",
    "\n",
    "\n",
    "\n",
    "### b. Run the Installer\n",
    "```bash\n",
    "bash ~/Packages/miniconda.sh -b -u -p ~/Packages/miniconda3\n",
    "```"
   ]
  },
  {
   "cell_type": "markdown",
   "metadata": {},
   "source": [
    "## 4. Activate a Conda Environment and Install Packages\n",
    "\n",
    "Managing environments ensures that your projects have the necessary dependencies without conflicts.\n",
    "\n",
    "### a. Initialize Conda (If Not Already Initialized)\n",
    "```bash\n",
    "\n",
    "conda create -n proteusAI python=3.8\n",
    "conda activate proteusAI\n",
    "```\n",
    "\n",
    "### b.  Install Dependencies\n",
    "conda env update -f proteusEnvironment.yml -y\n",
    "\n",
    "\n"
   ]
  },
  {
   "cell_type": "markdown",
   "metadata": {},
   "source": [
    "## 5. Set Up VS Code Remote - SSH Extension\n",
    "\n",
    "To enhance your development experience, use Visual Studio Code's Remote - SSH extension to work directly on the HPC server.\n",
    "\n",
    "### Steps to Set Up:\n",
    "\n",
    "1. **Install VS Code:** If you haven't already, download and install [Visual Studio Code](https://code.visualstudio.com/).\n",
    "2. **Install the Remote - SSH Extension:**\n",
    "   - Open VS Code.\n",
    "   - Go to the Extensions view by clicking on the Extensions icon or pressing `Ctrl+Shift+X`.\n",
    "   - Search for \"Remote - SSH\" and install it.\n",
    "3. **Configure SSH Host:**\n",
    "   - Type `Remote-SSH: Add New SSH Host`.\n",
    "   - Enter your SSH connection string, e.g., `ssh DTU_NAME@login1.hpc.dtu.dk`.\n",
    "   - Choose the SSH configuration file to update (usually `~/.ssh/config`).\n",
    "4. **Connect to the HPC Server:**\n",
    "   - Click on the green indicator in the bottom-left corner of VS Code.\n",
    "   - Select the SSH host you just added to connect.\n",
    "\n",
    "*Now you can edit files on the HPC server directly from VS Code.*"
   ]
  },
  {
   "cell_type": "markdown",
   "metadata": {},
   "source": [
    "## 6. Copy a Directory to Your Projects Folder\n",
    "\n",
    "To transfer a local directory to your HPC projects folder, use the `scp` (Secure Copy) command. Replace the placeholders with your actual paths and username.\n",
    "\n",
    "```bash\n",
    "scp -r /path/to/local/directory DTU_NAME@login1.hpc.dtu.dk:/path/to/remote/Projects/\n",
    "```\n",
    "Example\n",
    "```\n",
    "scp -r ~/Documents/MyProject DTU_NAME@login1.hpc.dtu.dk:~/Projects/\n"
   ]
  },
  {
   "cell_type": "markdown",
   "metadata": {
    "vscode": {
     "languageId": "plaintext"
    }
   },
   "source": [
    "## 7. To run you code\n",
    "\n",
    "You need an execution file that determines what the gpu u use etc. (see test_MLDE.sh below)\n",
    "\n",
    "##### test_MLDE.sh\n",
    "\n",
    "```bash\n",
    "#!/bin/sh\n",
    "### General options\n",
    "### –- specify queue --\n",
    "#BSUB -q gpua100\n",
    "### -- set the job Name --\n",
    "#BSUB -J run13\n",
    "### -- ask for number of cores (default: 1) --\n",
    "#BSUB -n 16\n",
    "### -- Select the resources: 1 gpu in exclusive process mode --\n",
    "#BSUB -gpu \"num=1:mode=exclusive_process\"\n",
    "### -- set walltime limit: hh:mm --  maximum 24 hours for GPU-queues right now\n",
    "#BSUB -W 24:00\n",
    "### -- specify that the cores must be on the same host --\n",
    "#BSUB -R \"span[hosts=1]\"\n",
    "# request 5GB of system-memory\n",
    "#BSUB -R \"rusage[mem=8GB]\"\n",
    "### -- set the email address --\n",
    "# please uncomment the following line and put in your e-mail address,\n",
    "# if you want to receive e-mail notifications on a non-default address\n",
    "#BSUB -u lucaslevassor@gmail.com\n",
    "### -- send notification at start --\n",
    "#BSUB -B\n",
    "### -- send notification at completion--\n",
    "#BSUB -N\n",
    "### -- Specify the output and error file. %J is the job-id --\n",
    "### -- -o and -e mean append, -oo and -eo mean overwrite --\n",
    "#BSUB -o gpu_%J.out\n",
    "#BSUB -e gpu_%J.err\n",
    "# -- end of LSF options --\n",
    " \n",
    "# Load the cuda module\n",
    "module load cuda/12.1\n",
    " \n",
    "\n",
    "~/miniconda3/envs/proteusAI/bin/python3 ./demo_MLDE.py > output_loss.txt\n",
    " "
   ]
  },
  {
   "cell_type": "markdown",
   "metadata": {},
   "source": [
    "## 8. Managing Batch Jobs\n",
    "Managing batch jobs is essential for efficiently utilizing HPC resources. Below are the main commands to submit, check the status of, and kill batch jobs.\n",
    "\n",
    "#### a. Submit a Batch Job\n",
    "To submit a batch job, use the bsub command followed by your job script. Replace test_MLDE.sh with your actual job script.\n",
    "\n",
    "```bash\n",
    "bsub < test_MLDE.sh\n",
    "```\n",
    "\n",
    "This command submits the test_MLDE.sh script to the job scheduler.\n",
    "\n",
    "#### b. Check Job Status\n",
    "To check the status of your jobs and retrieve the job ID, use the bstat command.\n",
    "\n",
    "```bash\n",
    "bstat\n",
    "```\n",
    "\n",
    "This command displays the current status of your submitted jobs, including their job IDs.\n",
    "\n",
    "#### c. Kill a Batch Job\n",
    "If you need to terminate a running batch job, use the bkill command followed by the specific job ID. You can obtain the job ID from the bstat command.\n",
    "\n",
    "``` bash\n",
    "bkill ADD_JOB_ID\n",
    "```\n",
    "\n",
    "Replace ADD_JOB_ID with the actual job ID you wish to kill. For example:\n",
    "\n",
    "\n",
    "```bash\n",
    "bkill 123456\n",
    "```\n",
    "This command terminates the batch job with ID 123456."
   ]
  },
  {
   "cell_type": "markdown",
   "metadata": {},
   "source": [
    "# Summary\n",
    "\n",
    "By following these steps, you can efficiently set up your environment on the HPC server, manage your projects, and transfer files with ease. If you encounter any issues, consult the HPC documentation or reach out to your system administrator for assistance.\n",
    "\n",
    "Happy computing!\n"
   ]
  },
  {
   "cell_type": "markdown",
   "metadata": {},
   "source": [
    "### Made by: \n",
    "\n",
    "Lucas & Sajad"
   ]
  },
  {
   "cell_type": "markdown",
   "metadata": {},
   "source": []
  }
 ],
 "metadata": {
  "language_info": {
   "name": "python"
  }
 },
 "nbformat": 4,
 "nbformat_minor": 2
}
